{
    "cells": [
        {
            "cell_type": "markdown",
            "metadata": {},
            "source": "# Test notebook\nIn this test notebook, I will use Python to retrieve the sum of salaries that the NBA are paying to their players. Before we begin, let's import the packages:"
        },
        {
            "cell_type": "code",
            "execution_count": 28,
            "metadata": {},
            "outputs": [],
            "source": "import numpy as np\nimport seaborn as sea\nimport matplotlib.pyplot as plt\nimport pandas as pd\nimport types\nfrom botocore.client import Config\nimport ibm_boto3"
        },
        {
            "cell_type": "markdown",
            "metadata": {},
            "source": "Then we import the file to our notebook:"
        },
        {
            "cell_type": "code",
            "execution_count": 1,
            "metadata": {},
            "outputs": [
                {
                    "data": {
                        "text/html": "<div>\n<style scoped>\n    .dataframe tbody tr th:only-of-type {\n        vertical-align: middle;\n    }\n\n    .dataframe tbody tr th {\n        vertical-align: top;\n    }\n\n    .dataframe thead th {\n        text-align: right;\n    }\n</style>\n<table border=\"1\" class=\"dataframe\">\n  <thead>\n    <tr style=\"text-align: right;\">\n      <th></th>\n      <th>Name</th>\n      <th>Team</th>\n      <th>Number</th>\n      <th>Position</th>\n      <th>Age</th>\n      <th>Height</th>\n      <th>Weight</th>\n      <th>College</th>\n      <th>Salary</th>\n    </tr>\n  </thead>\n  <tbody>\n    <tr>\n      <th>0</th>\n      <td>Avery Bradley</td>\n      <td>Boston Celtics</td>\n      <td>0.0</td>\n      <td>PG</td>\n      <td>25.0</td>\n      <td>6-2</td>\n      <td>180.0</td>\n      <td>Texas</td>\n      <td>7730337.0</td>\n    </tr>\n    <tr>\n      <th>1</th>\n      <td>Jae Crowder</td>\n      <td>Boston Celtics</td>\n      <td>99.0</td>\n      <td>SF</td>\n      <td>25.0</td>\n      <td>6-6</td>\n      <td>235.0</td>\n      <td>Marquette</td>\n      <td>6796117.0</td>\n    </tr>\n    <tr>\n      <th>2</th>\n      <td>John Holland</td>\n      <td>Boston Celtics</td>\n      <td>30.0</td>\n      <td>SG</td>\n      <td>27.0</td>\n      <td>6-5</td>\n      <td>205.0</td>\n      <td>Boston University</td>\n      <td>NaN</td>\n    </tr>\n    <tr>\n      <th>3</th>\n      <td>R.J. Hunter</td>\n      <td>Boston Celtics</td>\n      <td>28.0</td>\n      <td>SG</td>\n      <td>22.0</td>\n      <td>6-5</td>\n      <td>185.0</td>\n      <td>Georgia State</td>\n      <td>1148640.0</td>\n    </tr>\n    <tr>\n      <th>4</th>\n      <td>Jonas Jerebko</td>\n      <td>Boston Celtics</td>\n      <td>8.0</td>\n      <td>PF</td>\n      <td>29.0</td>\n      <td>6-10</td>\n      <td>231.0</td>\n      <td>NaN</td>\n      <td>5000000.0</td>\n    </tr>\n  </tbody>\n</table>\n</div>",
                        "text/plain": "            Name            Team  Number Position   Age Height  Weight  \\\n0  Avery Bradley  Boston Celtics     0.0       PG  25.0    6-2   180.0   \n1    Jae Crowder  Boston Celtics    99.0       SF  25.0    6-6   235.0   \n2   John Holland  Boston Celtics    30.0       SG  27.0    6-5   205.0   \n3    R.J. Hunter  Boston Celtics    28.0       SG  22.0    6-5   185.0   \n4  Jonas Jerebko  Boston Celtics     8.0       PF  29.0   6-10   231.0   \n\n             College     Salary  \n0              Texas  7730337.0  \n1          Marquette  6796117.0  \n2  Boston University        NaN  \n3      Georgia State  1148640.0  \n4                NaN  5000000.0  "
                    },
                    "execution_count": 1,
                    "metadata": {},
                    "output_type": "execute_result"
                }
            ],
            "source": "def __iter__(self): return 0\n\nclient_94a05f71faed4d5b84a2c32aeed24a76 = ibm_boto3.client(service_name='xx',\n    ibm_api_key_id='xxx',\n    ibm_auth_endpoint=\"xxx\",\n    config=Config(signature_version='xxx'),\n    endpoint_url='xxx')\n\nbody = client_94a05f71faed4d5b84a2c32aeed24a76.get_object(Bucket='xxx',Key='nba.csv')['Body']\nif not hasattr(body, \"__iter__\"): body.__iter__ = types.MethodType( __iter__, body )\n\ndf = pd.read_csv(body)\ndf.head()\n"
        },
        {
            "cell_type": "markdown",
            "metadata": {},
            "source": "Just to make sure, let's check the type:"
        },
        {
            "cell_type": "code",
            "execution_count": 2,
            "metadata": {},
            "outputs": [
                {
                    "data": {
                        "text/plain": "pandas.core.frame.DataFrame"
                    },
                    "execution_count": 2,
                    "metadata": {},
                    "output_type": "execute_result"
                }
            ],
            "source": "type(df)"
        },
        {
            "cell_type": "markdown",
            "metadata": {},
            "source": "Now that we are set, let's use the groupby function to see the total salary of each team."
        },
        {
            "cell_type": "code",
            "execution_count": 4,
            "metadata": {
                "scrolled": false
            },
            "outputs": [
                {
                    "data": {
                        "text/plain": "Team\nAtlanta Hawks              72902950.0\nBoston Celtics             58541068.0\nBrooklyn Nets              52528475.0\nCharlotte Hornets          78340920.0\nChicago Bulls              86783378.0\nCleveland Cavaliers       106988689.0\nDallas Mavericks           71198732.0\nDenver Nuggets             60121930.0\nDetroit Pistons            67168263.0\nGolden State Warriors      88868997.0\nHouston Rockets            75283021.0\nIndiana Pacers             66751826.0\nLos Angeles Clippers       94854640.0\nLos Angeles Lakers         71770431.0\nMemphis Grizzlies          76550880.0\nMiami Heat                 82515673.0\nMilwaukee Bucks            69603517.0\nMinnesota Timberwolves     59709697.0\nNew Orleans Pelicans       82750774.0\nNew York Knicks            73303898.0\nOklahoma City Thunder      93765298.0\nOrlando Magic              60161470.0\nPhiladelphia 76ers         30992894.0\nPhoenix Suns               63445135.0\nPortland Trail Blazers     48301818.0\nSacramento Kings           71683666.0\nSan Antonio Spurs          84442733.0\nToronto Raptors            71117611.0\nUtah Jazz                  63060091.0\nWashington Wizards         76328636.0\nName: Salary, dtype: float64"
                    },
                    "execution_count": 4,
                    "metadata": {},
                    "output_type": "execute_result"
                }
            ],
            "source": "gb = df.groupby('Team')['Salary'].sum()\ngb"
        },
        {
            "cell_type": "markdown",
            "metadata": {},
            "source": "This conludes my notebook."
        }
    ],
    "metadata": {
        "kernelspec": {
            "display_name": "Python 3.6",
            "language": "python",
            "name": "python3"
        },
        "language_info": {
            "codemirror_mode": {
                "name": "ipython",
                "version": 3
            },
            "file_extension": ".py",
            "mimetype": "text/x-python",
            "name": "python",
            "nbconvert_exporter": "python",
            "pygments_lexer": "ipython3",
            "version": "3.6.9"
        }
    },
    "nbformat": 4,
    "nbformat_minor": 1
}